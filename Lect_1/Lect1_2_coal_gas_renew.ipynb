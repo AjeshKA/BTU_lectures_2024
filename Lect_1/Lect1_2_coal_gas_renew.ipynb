{
 "cells": [
  {
   "cell_type": "markdown",
   "metadata": {},
   "source": [
    "## Lect 1_Part 2 Simple LPP Problem using PyPSA"
   ]
  },
  {
   "cell_type": "markdown",
   "metadata": {},
   "source": [
    "### Powerplants: Coal, gas, Renewables LPP"
   ]
  },
  {
   "cell_type": "code",
   "execution_count": 2,
   "metadata": {},
   "outputs": [
    {
     "name": "stderr",
     "output_type": "stream",
     "text": [
      "INFO:pypsa.linopf:Prepare linear problem\n",
      "INFO:pypsa.linopf:Total preparation time: 0.3s\n",
      "INFO:pypsa.linopf:Solve linear problem using Glpk solver\n",
      "INFO:pypsa.linopf:Optimization successful. Objective value: 5.10e+03\n"
     ]
    },
    {
     "name": "stdout",
     "output_type": "stream",
     "text": [
      "Generator  Coal   Gas    PV  Wind\n",
      "snapshot                         \n",
      "0          10.0  80.0  40.0  70.0\n",
      "Total Cost of Electricity Generation: 5100.0 €\n",
      "Total CO2 Emissions: GlobalConstraint\n",
      "emission_limit    40.0\n",
      "Name: constant, dtype: float64 tons\n",
      "Total Emissions: 40.0 tons\n"
     ]
    }
   ],
   "source": [
    "import pypsa\n",
    "import warnings\n",
    "warnings.simplefilter(action='ignore', category=FutureWarning)\n",
    "warnings.simplefilter(action='ignore', category=DeprecationWarning)\n",
    "\n",
    "# Create a new PyPSA network\n",
    "network = pypsa.Network()\n",
    "network.set_snapshots(range(1))  # Solve for a single time snapshot\n",
    "\n",
    "# Define the buses (electricity demand)\n",
    "network.add(\"Bus\", \"electricity_bus\", carrier=\"electricity\")\n",
    "\n",
    "# Add generators (power plants) with defined emissions rate per MWh generated\n",
    "network.add(\"Generator\", \"Coal\", bus=\"electricity_bus\", p_nom_extendable=False, marginal_cost=30, p_nom=60, carrier=\"coal\")\n",
    "network.add(\"Generator\", \"Gas\", bus=\"electricity_bus\", p_nom_extendable=False, marginal_cost=60, p_nom=80, carrier=\"gas\")\n",
    "network.add(\"Generator\", \"PV\", bus=\"electricity_bus\", p_nom_extendable=True, marginal_cost=0,p_nom_max=40)\n",
    "network.add(\"Generator\", \"Wind\", bus=\"electricity_bus\", p_nom_extendable=True, marginal_cost=0, p_nom_max=70)\n",
    "\n",
    "network.madd(\n",
    "    \"Carrier\",\n",
    "    names=[\"coal\",\"gas\",\"pv\",\"wind\"],\n",
    "    color=[\"black\",\"darkslategray\",\"gold\",\"lightseagreen\"],\n",
    "    co2_emissions=[0.8,0.4,0,0],\n",
    ")\n",
    "\n",
    "# Add global CO2 emissions constraint for the entire network\n",
    "network.add(\n",
    "    \"GlobalConstraint\",\n",
    "    \"emission_limit\",\n",
    "    carrier_attribute=\"co2_emissions\",\n",
    "    sense=\"<=\",\n",
    "    constant=40,  # Total CO2 emissions limit in tons\n",
    ")\n",
    "\n",
    "# Add load data (electricity demand)\n",
    "network.add(\"Load\", \"electricity_load\", bus=\"electricity_bus\", p_set=200)\n",
    "\n",
    "# Optimize the network to minimize the total cost\n",
    "network.lopf(solver_name=\"glpk\")\n",
    "\n",
    "# Print the results\n",
    "print(network.generators_t.p)  # Power output per generator\n",
    "print(f\"Total Cost of Electricity Generation: {network.objective} €\")\n",
    "print(f\"Total CO2 Emissions: {network.global_constraints.constant} tons\")\n",
    "# Individual emissions\n",
    "emissions_ind = (network.generators_t.p/ network.generators.efficiency* network.generators.carrier.map(network.carriers.co2_emissions))\n",
    "print(f\"Total Emissions: {emissions_ind.sum().sum()} tons\")"
   ]
  },
  {
   "cell_type": "code",
   "execution_count": 8,
   "metadata": {},
   "outputs": [
    {
     "data": {
      "image/png": "[encoded data removed]",
      "text/plain": [
       "<Figure size 640x480 with 1 Axes>"
      ]
     },
     "metadata": {},
     "output_type": "display_data"
    }
   ],
   "source": [
    "import matplotlib.pyplot as plt\n",
    "fig, ax = plt.subplots()\n",
    "network.generators_t.p.plot(kind=\"bar\", stacked=True, ax=ax)\n",
    "plt.ylabel(\"Power [MW]\")\n",
    "plt.show()"
   ]
  },
  {
   "cell_type": "code",
   "execution_count": null,
   "metadata": {},
   "outputs": [],
   "source": []
  }
 ],
 "metadata": {
  "kernelspec": {
   "display_name": "Python 3.11.6 ('PyPSA')",
   "language": "python",
   "name": "python3"
  },
  "language_info": {
   "codemirror_mode": {
    "name": "ipython",
    "version": 3
   },
   "file_extension": ".py",
   "mimetype": "text/x-python",
   "name": "python",
   "nbconvert_exporter": "python",
   "pygments_lexer": "ipython3",
   "version": "3.11.7"
  },
  "orig_nbformat": 4,
  "vscode": {
   "interpreter": {
    "hash": "9362ac2cf2c17960d79fda7a8ec755c04e96fd0061c81d467f9ff311b94f59c5"
   }
  }
 },
 "nbformat": 4,
 "nbformat_minor": 2
}
